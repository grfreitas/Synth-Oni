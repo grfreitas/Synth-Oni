{
 "cells": [
  {
   "cell_type": "code",
   "execution_count": 4,
   "metadata": {},
   "outputs": [],
   "source": [
    "from waves import Triangle, SawTooth, Square, Sine\n",
    "import matplotlib.pyplot as plt"
   ]
  },
  {
   "cell_type": "code",
   "execution_count": 5,
   "metadata": {},
   "outputs": [],
   "source": [
    "t1 = Triangle(frequency=400)\n",
    "t2 = Sine(frequency=400)\n",
    "t3 = Square(frequency=400)\n",
    "t4 = SawTooth(frequency=400)"
   ]
  },
  {
   "cell_type": "code",
   "execution_count": 7,
   "metadata": {},
   "outputs": [
    {
     "data": {
      "text/plain": [
       "<matplotlib.legend.Legend at 0x22811683bc8>"
      ]
     },
     "execution_count": 7,
     "metadata": {},
     "output_type": "execute_result"
    },
    {
     "data": {
      "image/png": "[encoded data removed]",
      "text/plain": [
       "<Figure size 432x288 with 1 Axes>"
      ]
     },
     "metadata": {
      "needs_background": "light"
     },
     "output_type": "display_data"
    }
   ],
   "source": [
    "# plt.plot(t1, label='triangle')\n",
    "plt.plot(t2, label='sine')\n",
    "# plt.plot(t3, label='square')\n",
    "# plt.plot(t4, label='SawTooth')\n",
    "\n",
    "plt.legend()"
   ]
  },
  {
   "cell_type": "code",
   "execution_count": null,
   "metadata": {},
   "outputs": [],
   "source": []
  },
  {
   "cell_type": "code",
   "execution_count": 10,
   "metadata": {},
   "outputs": [
    {
     "data": {
      "text/plain": [
       "Triangle([ 1.        ,  0.96371883,  0.92743766,  0.89115644,  0.85487527,\n",
       "           0.8185941 ,  0.7823129 ,  0.74603176,  0.7097506 ,  0.67346936,\n",
       "           0.6371882 ,  0.600907  ,  0.56462586,  0.5283447 ,  0.4920635 ,\n",
       "           0.45578232,  0.41950113,  0.38321996,  0.3469388 ,  0.3106576 ,\n",
       "           0.27437642,  0.23809524,  0.20181406,  0.16553289,  0.1292517 ,\n",
       "           0.09297052,  0.05668934,  0.02040816, -0.01587302, -0.05215419,\n",
       "          -0.08843537, -0.12471655, -0.16099773, -0.19727892, -0.23356009,\n",
       "          -0.26984128, -0.30612245, -0.34240362, -0.37868482, -0.414966  ,\n",
       "          -0.45124716, -0.48752835, -0.52380955, -0.5600907 , -0.5963719 ,\n",
       "          -0.63265306, -0.6689342 , -0.7052154 , -0.7414966 , -0.7777778 ,\n",
       "          -0.81405896, -0.8503401 , -0.8866213 , -0.92290246, -0.9591837 ,\n",
       "          -0.99546486, -0.96825397, -0.9319728 , -0.89569163, -0.8594104 ,\n",
       "          -0.82312924, -0.78684807, -0.7505669 , -0.71428573, -0.67800456,\n",
       "          -0.64172333, -0.60544217, -0.569161  , -0.5328798 , -0.49659863,\n",
       "          -0.46031746, -0.4240363 , -0.3877551 , -0.35147393, -0.31519273,\n",
       "          -0.27891156, -0.24263039, -0.20634921, -0.17006803, -0.13378684,\n",
       "          -0.09750567, -0.06122449, -0.02494331,  0.01133787,  0.04761905,\n",
       "           0.08390023,  0.1201814 ,  0.15646258,  0.19274376,  0.22902495,\n",
       "           0.26530612,  0.3015873 ,  0.33786848,  0.37414965,  0.41043085,\n",
       "           0.44671202,  0.4829932 ,  0.51927435,  0.5555556 ,  0.59183675,\n",
       "           0.6281179 ,  0.6643991 ,  0.70068026,  0.7369614 ,  0.77324265,\n",
       "           0.8095238 ,  0.845805  ,  0.88208616,  0.9183673 ,  0.95464855,\n",
       "           0.9909297 ], dtype=float32)"
      ]
     },
     "execution_count": 10,
     "metadata": {},
     "output_type": "execute_result"
    }
   ],
   "source": []
  },
  {
   "cell_type": "code",
   "execution_count": null,
   "metadata": {},
   "outputs": [],
   "source": []
  },
  {
   "cell_type": "code",
   "execution_count": 3,
   "metadata": {},
   "outputs": [
    {
     "data": {
      "text/plain": [
       "Triangle([1.], dtype=float32)"
      ]
     },
     "execution_count": 3,
     "metadata": {},
     "output_type": "execute_result"
    }
   ],
   "source": [
    "t"
   ]
  },
  {
   "cell_type": "code",
   "execution_count": 3,
   "metadata": {},
   "outputs": [],
   "source": [
    "SR = 44100"
   ]
  },
  {
   "cell_type": "code",
   "execution_count": 4,
   "metadata": {},
   "outputs": [
    {
     "data": {
      "text/plain": [
       "Triangle([2, 4, 6])"
      ]
     },
     "execution_count": 4,
     "metadata": {},
     "output_type": "execute_result"
    }
   ],
   "source": [
    "t +t"
   ]
  },
  {
   "cell_type": "code",
   "execution_count": 7,
   "metadata": {},
   "outputs": [
    {
     "data": {
      "text/plain": [
       "Triangle([2, 4, 6])"
      ]
     },
     "execution_count": 7,
     "metadata": {},
     "output_type": "execute_result"
    }
   ],
   "source": [
    "t + t"
   ]
  },
  {
   "cell_type": "code",
   "execution_count": 5,
   "metadata": {},
   "outputs": [
    {
     "data": {
      "text/plain": [
       "400"
      ]
     },
     "execution_count": 5,
     "metadata": {},
     "output_type": "execute_result"
    }
   ],
   "source": [
    "t.frequency"
   ]
  },
  {
   "cell_type": "code",
   "execution_count": null,
   "metadata": {},
   "outputs": [],
   "source": []
  }
 ],
 "metadata": {
  "kernelspec": {
   "display_name": "Python 3.7.9 64-bit (windows store)",
   "language": "python",
   "name": "python3"
  },
  "language_info": {
   "codemirror_mode": {
    "name": "ipython",
    "version": 3
   },
   "file_extension": ".py",
   "mimetype": "text/x-python",
   "name": "python",
   "nbconvert_exporter": "python",
   "pygments_lexer": "ipython3",
   "version": "3.7.9"
  },
  "orig_nbformat": 4,
  "vscode": {
   "interpreter": {
    "hash": "c706d25de4b4ea97c921d5516dd7009f137fb5a56de1a6c9dc15378b19e07a43"
   }
  }
 },
 "nbformat": 4,
 "nbformat_minor": 2
}
